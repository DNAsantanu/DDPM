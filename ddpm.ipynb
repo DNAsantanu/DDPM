{
  "cells": [
    {
      "cell_type": "code",
      "source": [
        "#!/usr/bin/env python3\n",
        "\"\"\"\n",
        "DDPM training on CIFAR-10 (fixed UNet channel-mismatch bug — updated)\n",
        "\n",
        "This script is a full, runnable DDPM training example on CIFAR-10. It\n",
        "includes a corrected U-Net implementation with explicit skip-channel\n",
        "bookkeeping that guarantees the up-path ResNet blocks are constructed with\n",
        "the exact channel counts they will receive during forward().\n",
        "\n",
        "Key fixes applied:\n",
        "- During the down path we record the actual \"skip\" channel counts.\n",
        "- During up path construction we use those exact skip channel counts in\n",
        "  reverse order to set the input channel size for the first ResNet block\n",
        "  (the block that consumes the concatenated tensor).\n",
        "- This removes any mismatch between concatenated tensor channels and\n",
        "  ResNet block conv weight shapes.\n",
        "\n",
        "Usage:\n",
        "    python ddpm_cifar10_fixed_full_running.py\n",
        "\n",
        "\"\"\"\n",
        "\n",
        "import os\n",
        "import math\n",
        "from pathlib import Path\n",
        "from typing import Tuple, List\n",
        "\n",
        "import torch\n",
        "import torch.nn as nn\n",
        "import torch.nn.functional as F\n",
        "import torch.optim as optim\n",
        "from torch.utils.data import DataLoader\n",
        "import torchvision\n",
        "from torchvision import transforms\n",
        "from torchvision.utils import save_image\n",
        "\n",
        "import numpy as np\n",
        "from tqdm import tqdm\n",
        "import random\n",
        "\n",
        "# Optional FID metric\n",
        "try:\n",
        "    from torchmetrics.image.fid import FrechetInceptionDistance\n",
        "except Exception:\n",
        "    FrechetInceptionDistance = None\n",
        "\n",
        "\n",
        "# ---------------------------\n",
        "# Config\n",
        "# ---------------------------\n",
        "class CFG:\n",
        "    image_size = 32\n",
        "    channels = 3\n",
        "    batch_size = 16\n",
        "    lr = 2e-4\n",
        "    epochs = 100\n",
        "    device = torch.device(\"cuda\" if torch.cuda.is_available() else \"cpu\")\n",
        "\n",
        "    diffusion_steps = 400\n",
        "    beta_start = 1e-4\n",
        "    beta_end = 0.02\n",
        "\n",
        "    base_channels = 128\n",
        "    channel_mult = (1, 2, 2, 2)  # -> [128,256,256,256]\n",
        "    attn_resolutions = (16,)     # attention at 16x16\n",
        "    num_res_blocks = 2\n",
        "    dropout = 0.1\n",
        "\n",
        "    out_dir = \"./ddpm_original_runs\"\n",
        "    save_every = 400\n",
        "    sample_batch = 16\n",
        "\n",
        "\n",
        "# ---------------------------\n",
        "# Beta schedule & helpers\n",
        "# ---------------------------\n",
        "\n",
        "def linear_beta_schedule(timesteps, beta_start, beta_end):\n",
        "    return torch.linspace(beta_start, beta_end, timesteps)\n",
        "\n",
        "\n",
        "def make_diffusion_series(T, beta_start, beta_end, device):\n",
        "    betas = linear_beta_schedule(T, beta_start, beta_end).to(device)\n",
        "    alphas = 1.0 - betas\n",
        "    alphas_cumprod = torch.cumprod(alphas, dim=0)\n",
        "    alphas_cumprod_prev = torch.cat([torch.tensor([1.0], device=device), alphas_cumprod[:-1]], dim=0)\n",
        "    sqrt_alphas_cumprod = torch.sqrt(alphas_cumprod)\n",
        "    sqrt_one_minus_alphas_cumprod = torch.sqrt(1.0 - alphas_cumprod)\n",
        "    posterior_variance = betas * (1.0 - alphas_cumprod_prev) / (1.0 - alphas_cumprod)\n",
        "    return {\n",
        "        \"betas\": betas,\n",
        "        \"alphas\": alphas,\n",
        "        \"alphas_cumprod\": alphas_cumprod,\n",
        "        \"sqrt_alphas_cumprod\": sqrt_alphas_cumprod,\n",
        "        \"sqrt_one_minus_alphas_cumprod\": sqrt_one_minus_alphas_cumprod,\n",
        "        \"posterior_variance\": posterior_variance\n",
        "    }\n",
        "\n",
        "\n",
        "# ---------------------------\n",
        "# Sinusoidal time embedding\n",
        "# ---------------------------\n",
        "def sinusoidal_positional_embedding(timesteps: torch.Tensor, dim: int):\n",
        "    assert len(timesteps.shape) == 1\n",
        "    half = dim // 2\n",
        "    freqs = torch.exp(- math.log(10000) * torch.arange(half, dtype=torch.float32, device=timesteps.device) / (half - 1))\n",
        "    args = timesteps.float().unsqueeze(1) * freqs.unsqueeze(0)\n",
        "    emb = torch.cat([torch.sin(args), torch.cos(args)], dim=-1)\n",
        "    if dim % 2 == 1:\n",
        "        emb = F.pad(emb, (0, 1))\n",
        "    return emb\n",
        "\n",
        "\n",
        "# ---------------------------\n",
        "# ResNet block\n",
        "# ---------------------------\n",
        "class ResnetBlock(nn.Module):\n",
        "    def __init__(self, in_ch, out_ch, time_emb_dim, dropout):\n",
        "        super().__init__()\n",
        "        self.in_ch = in_ch\n",
        "        self.out_ch = out_ch\n",
        "        self.time_mlp = nn.Linear(time_emb_dim, out_ch)\n",
        "\n",
        "        self.conv1 = nn.Conv2d(in_ch, out_ch, kernel_size=3, padding=1)\n",
        "        self.conv2 = nn.Conv2d(out_ch, out_ch, kernel_size=3, padding=1)\n",
        "        self.dropout = nn.Dropout(dropout)\n",
        "        self.act = nn.SiLU()\n",
        "        self.res_conv = nn.Conv2d(in_ch, out_ch, kernel_size=1) if in_ch != out_ch else nn.Identity()\n",
        "\n",
        "        # Lazy GroupNorms (created on first forward pass to match actual channels)\n",
        "        self.norm1 = None\n",
        "        self.norm2 = None\n",
        "\n",
        "    def forward(self, x, t_emb=None):\n",
        "        if self.norm1 is None or self.norm1.num_channels != x.size(1):\n",
        "            self.norm1 = nn.GroupNorm(8, x.size(1)).to(x.device)\n",
        "        if self.norm2 is None or self.norm2.num_channels != self.conv1.out_channels:\n",
        "            self.norm2 = nn.GroupNorm(8, self.conv1.out_channels).to(x.device)\n",
        "\n",
        "        h = self.norm1(x)\n",
        "        h = self.act(h)\n",
        "        h = self.conv1(h)\n",
        "\n",
        "        if t_emb is not None:\n",
        "            h = h + self.time_mlp(t_emb).unsqueeze(-1).unsqueeze(-1)\n",
        "\n",
        "        h = self.norm2(h)\n",
        "        h = self.act(h)\n",
        "        h = self.dropout(h)\n",
        "        h = self.conv2(h)\n",
        "\n",
        "        return h + self.res_conv(x)\n",
        "\n",
        "\n",
        "# ---------------------------\n",
        "# Attention block\n",
        "# ---------------------------\n",
        "class AttentionBlock(nn.Module):\n",
        "    def __init__(self, ch, num_heads=4):\n",
        "        super().__init__()\n",
        "        assert ch % num_heads == 0\n",
        "        self.num_heads = num_heads\n",
        "        self.norm = nn.GroupNorm(8, ch)\n",
        "        self.q = nn.Conv2d(ch, ch, 1)\n",
        "        self.k = nn.Conv2d(ch, ch, 1)\n",
        "        self.v = nn.Conv2d(ch, ch, 1)\n",
        "        self.proj_out = nn.Conv2d(ch, ch, 1)\n",
        "\n",
        "    def forward(self, x):\n",
        "        B, C, H, W = x.shape\n",
        "        h = self.norm(x)\n",
        "        q = self.q(h).view(B, self.num_heads, C // self.num_heads, H * W)\n",
        "        k = self.k(h).view(B, self.num_heads, C // self.num_heads, H * W)\n",
        "        v = self.v(h).view(B, self.num_heads, C // self.num_heads, H * W)\n",
        "        scale = 1.0 / math.sqrt(C // self.num_heads)\n",
        "        attn = torch.einsum('bhdn,bhdm->bhnm', q, k) * scale\n",
        "        attn = F.softmax(attn, dim=-1)\n",
        "        out = torch.einsum('bhnm,bhdm->bhdn', attn, v)\n",
        "        out = out.contiguous().view(B, C, H, W)\n",
        "        out = self.proj_out(out)\n",
        "        return x + out\n",
        "\n",
        "\n",
        "# ---------------------------\n",
        "# Corrected U-Net\n",
        "# ---------------------------\n",
        "class OriginalDDPMUNet(nn.Module):\n",
        "    def __init__(self, in_ch=3, base_ch=128, channel_mult=(1,2,2,2),\n",
        "                 attn_resolutions=(16,), num_res_blocks=2, dropout=0.1, time_emb_dim=256):\n",
        "        super().__init__()\n",
        "        self.in_ch = in_ch\n",
        "        self.time_mlp = nn.Sequential(\n",
        "            nn.Linear(time_emb_dim, time_emb_dim),\n",
        "            nn.SiLU(),\n",
        "            nn.Linear(time_emb_dim, time_emb_dim)\n",
        "        )\n",
        "\n",
        "        self.init_conv = nn.Conv2d(in_ch, base_ch, kernel_size=3, padding=1)\n",
        "\n",
        "        # compute channel list per level\n",
        "        chs = [base_ch * m for m in channel_mult]  # e.g. [128,256,256,256]\n",
        "        in_out = list(zip([base_ch] + chs[:-1], chs))\n",
        "\n",
        "        # Down path (we record skip channel sizes)\n",
        "        self.down_blocks = nn.ModuleList()\n",
        "        self.skip_channels = []\n",
        "        curr_res = CFG.image_size\n",
        "        for i, (lvl_in, lvl_out) in enumerate(in_out):\n",
        "            block_layers = nn.ModuleList()\n",
        "            attn_layers = nn.ModuleList()\n",
        "            for j in range(num_res_blocks):\n",
        "                in_ch_block = lvl_in if j == 0 else lvl_out\n",
        "                block_layers.append(ResnetBlock(in_ch_block, lvl_out, time_emb_dim, dropout))\n",
        "            if curr_res in attn_resolutions:\n",
        "                attn_layers.append(AttentionBlock(lvl_out))\n",
        "            down_sample = nn.Conv2d(lvl_out, lvl_out, kernel_size=3, stride=2, padding=1) if i < len(in_out)-1 else nn.Identity()\n",
        "            self.down_blocks.append(nn.ModuleList([block_layers, attn_layers, down_sample]))\n",
        "            self.skip_channels.append(lvl_out)\n",
        "            curr_res //= 2\n",
        "\n",
        "        # Middle\n",
        "        mid_ch = chs[-1]\n",
        "        self.mid_block1 = ResnetBlock(mid_ch, mid_ch, time_emb_dim, dropout)\n",
        "        self.mid_attn = AttentionBlock(mid_ch)\n",
        "        self.mid_block2 = ResnetBlock(mid_ch, mid_ch, time_emb_dim, dropout)\n",
        "\n",
        "        # Up path: build using recorded skip_channels in reverse\n",
        "        self.up_blocks = nn.ModuleList()\n",
        "        curr_ch = mid_ch\n",
        "        # spatial resolution at the bottleneck\n",
        "        curr_res = max(1, CFG.image_size // (2 ** (len(chs)-1)))\n",
        "\n",
        "        # Use reversed skip_channels so we pop them in the same order in forward\n",
        "        rev_skip_chs = list(reversed(self.skip_channels))  # e.g. [lvl3, lvl2, lvl1, lvl0]\n",
        "        for i, skip_ch in enumerate(rev_skip_chs):\n",
        "            block_layers = nn.ModuleList()\n",
        "            attn_layers = nn.ModuleList()\n",
        "\n",
        "            # first block consumes concatenated channels: curr_ch + skip_ch -> skip_ch\n",
        "            block_layers.append(ResnetBlock(curr_ch + skip_ch, skip_ch, time_emb_dim, dropout))\n",
        "            # subsequent blocks (if any) are skip_ch -> skip_ch\n",
        "            for _ in range(num_res_blocks):\n",
        "                block_layers.append(ResnetBlock(skip_ch, skip_ch, time_emb_dim, dropout))\n",
        "\n",
        "            if curr_res in attn_resolutions:\n",
        "                attn_layers.append(AttentionBlock(skip_ch))\n",
        "\n",
        "            # upsample that preserves channel count of \"h\" (curr_ch)\n",
        "            # For the last iteration (when we've reached the highest resolution), we DON'T upsample\n",
        "            if i < len(rev_skip_chs) - 1:\n",
        "                up_sample = nn.ConvTranspose2d(curr_ch, curr_ch, kernel_size=4, stride=2, padding=1)\n",
        "            else:\n",
        "                up_sample = nn.Identity()\n",
        "\n",
        "            self.up_blocks.append(nn.ModuleList([block_layers, attn_layers, up_sample]))\n",
        "\n",
        "            # after this level, h will have channels = skip_ch\n",
        "            curr_ch = skip_ch\n",
        "            curr_res *= 2\n",
        "\n",
        "        # final layers (GroupNorm -> SiLU -> Conv)\n",
        "        # After the final up-block the number of channels equals `base_ch`,\n",
        "        # so final_norm should use base_ch groups/channels and final_conv maps\n",
        "        # back to the input image channels (e.g. 3 for RGB).\n",
        "        self.final_norm = nn.GroupNorm(8, base_ch)\n",
        "        self.final_act = nn.SiLU()\n",
        "        self.final_conv = nn.Conv2d(base_ch, in_ch, kernel_size=3, padding=1)\n",
        "\n",
        "    def forward(self, x, t):\n",
        "        t_emb = sinusoidal_positional_embedding(t, self.time_mlp[0].in_features)\n",
        "        t_emb = self.time_mlp(t_emb)\n",
        "\n",
        "        h = self.init_conv(x)\n",
        "        skips: List[torch.Tensor] = []\n",
        "\n",
        "        for block_layers, attn_layers, down_sample in self.down_blocks:\n",
        "            for block in block_layers:\n",
        "                h = block(h, t_emb)\n",
        "            for attn in attn_layers:\n",
        "                h = attn(h)\n",
        "            skips.append(h)\n",
        "            h = down_sample(h)\n",
        "\n",
        "        h = self.mid_block1(h, t_emb)\n",
        "        h = self.mid_attn(h)\n",
        "        h = self.mid_block2(h, t_emb)\n",
        "\n",
        "        # up path: pop skips in reverse order\n",
        "        for block_layers, attn_layers, up_sample in self.up_blocks:\n",
        "            h = up_sample(h)\n",
        "            if len(skips) == 0:\n",
        "                raise RuntimeError(\"Skip stack empty — mismatch between down and up blocks.\")\n",
        "            skip = skips.pop()\n",
        "            if h.shape[2:] != skip.shape[2:]:\n",
        "                skip = F.interpolate(skip, size=h.shape[2:], mode='nearest')\n",
        "            h = torch.cat([h, skip], dim=1)  # concatenated channels match first ResnetBlock constructor\n",
        "            for block in block_layers:\n",
        "                h = block(h, t_emb)\n",
        "            for attn in attn_layers:\n",
        "                h = attn(h)\n",
        "\n",
        "        h = self.final_norm(h)\n",
        "        h = self.final_act(h)\n",
        "        out = self.final_conv(h)\n",
        "        return out\n",
        "\n",
        "\n",
        "# ---------------------------\n",
        "# Dataloader\n",
        "# ---------------------------\n",
        "def get_dataloader(batch_size, image_size, train=True):\n",
        "    transform = transforms.Compose([\n",
        "        transforms.Resize(image_size),\n",
        "        transforms.ToTensor(),\n",
        "        transforms.Normalize((0.5,0.5,0.5),(0.5,0.5,0.5)),\n",
        "    ])\n",
        "    ds = torchvision.datasets.CIFAR10(root='./data', train=train, download=True, transform=transform)\n",
        "    loader = DataLoader(ds, batch_size=batch_size, shuffle=train, num_workers=2, pin_memory=True)\n",
        "    return loader\n",
        "\n",
        "\n",
        "# ---------------------------\n",
        "# q_sample & p_sample_loop\n",
        "# ---------------------------\n",
        "\n",
        "def q_sample(x0: torch.Tensor, t: torch.LongTensor, noise: torch.Tensor, series):\n",
        "    sqrt_ac = series['sqrt_alphas_cumprod'][t].view(-1,1,1,1)\n",
        "    sqrt_om = series['sqrt_one_minus_alphas_cumprod'][t].view(-1,1,1,1)\n",
        "    return sqrt_ac * x0 + sqrt_om * noise\n",
        "\n",
        "\n",
        "@torch.no_grad()\n",
        "def p_sample_loop(model: nn.Module, shape: Tuple[int,int,int,int], series, device, progress=False):\n",
        "    model.eval()\n",
        "    B = shape[0]\n",
        "    x = torch.randn(shape, device=device)\n",
        "    T = series['betas'].shape[0]\n",
        "    rng = range(T-1, -1, -1)\n",
        "    if progress:\n",
        "        rng = tqdm(rng, desc='sampling')\n",
        "    for t in rng:\n",
        "        t_tensor = torch.full((B,), t, dtype=torch.long, device=device)\n",
        "        eps_pred = model(x, t_tensor)\n",
        "\n",
        "        beta_t = series['betas'][t]\n",
        "        alpha_t = series['alphas'][t]\n",
        "        alpha_cumprod_t = series['alphas_cumprod'][t]\n",
        "\n",
        "        x0_pred = (x - torch.sqrt(1 - alpha_cumprod_t) * eps_pred) / torch.sqrt(alpha_cumprod_t)\n",
        "\n",
        "        if t > 0:\n",
        "            posterior_var = series['posterior_variance'][t]\n",
        "            mean = ((beta_t * torch.sqrt(series['alphas_cumprod'][t-1]) / (1.0 - alpha_cumprod_t)) * x0_pred\n",
        "                    + ((1.0 - series['alphas_cumprod'][t-1]) * torch.sqrt(alpha_t) / (1.0 - alpha_cumprod_t)) * x)\n",
        "            noise = torch.randn_like(x)\n",
        "            x = mean + torch.sqrt(posterior_var) * noise\n",
        "        else:\n",
        "            mean = ((beta_t * torch.sqrt(series['alphas_cumprod'][t-1]) / (1.0 - alpha_cumprod_t)) * x0_pred\n",
        "                    + ((1.0 - series['alphas_cumprod'][t-1]) * torch.sqrt(alpha_t) / (1.0 - alpha_cumprod_t)) * x)\n",
        "            x = mean\n",
        "\n",
        "    x = torch.clamp(x, -1.0, 1.0)\n",
        "    return x\n",
        "\n",
        "\n",
        "# ---------------------------\n",
        "# FID (optional)\n",
        "# ---------------------------\n",
        "def evaluate_fid(model: nn.Module, series, device, num_gen=5000, batch_size=128):\n",
        "    if FrechetInceptionDistance is None:\n",
        "        print('torchmetrics FID not available; skipping FID.')\n",
        "        return None\n",
        "    print(f'Computing FID with {num_gen} generated images (batch_size {batch_size})...')\n",
        "    fid = FrechetInceptionDistance(feature=2048).to(device)\n",
        "    real_loader = get_dataloader(batch_size=batch_size, image_size=CFG.image_size, train=True)\n",
        "    real_count = 0\n",
        "    for x_real, _ in tqdm(real_loader, desc='Updating FID with real images'):\n",
        "        x_real = x_real.to(device)\n",
        "        imgs_uint8 = ((x_real.clamp(-1,1)+1.0)/2.0*255.0).to(torch.uint8)\n",
        "        fid.update(imgs_uint8, real=True)\n",
        "        real_count += imgs_uint8.shape[0]\n",
        "        if real_count >= num_gen:\n",
        "            break\n",
        "    gen_count = 0\n",
        "    gen_bs = min(batch_size, 64)\n",
        "    while gen_count < num_gen:\n",
        "        to_gen = min(gen_bs, num_gen - gen_count)\n",
        "        samples = p_sample_loop(model, (to_gen, CFG.channels, CFG.image_size, CFG.image_size), series, device, progress=False)\n",
        "        imgs_uint8 = ((samples.clamp(-1,1)+1.0)/2.0*255.0).to(torch.uint8)\n",
        "        fid.update(imgs_uint8, real=False)\n",
        "        gen_count += imgs_uint8.shape[0]\n",
        "        print(f'Generated {gen_count}/{num_gen} for FID', end='')\n",
        "    result = fid.compute().item()\n",
        "    print(f'FID: {result:.4f}')\n",
        "    return result\n",
        "\n",
        "\n",
        "# ---------------------------\n",
        "# Training loop\n",
        "# ---------------------------\n",
        "def train():\n",
        "    os.makedirs(CFG.out_dir, exist_ok=True)\n",
        "    loader = get_dataloader(CFG.batch_size, CFG.image_size, train=True)\n",
        "\n",
        "    model = OriginalDDPMUNet(\n",
        "        in_ch=CFG.channels,\n",
        "        base_ch=CFG.base_channels,\n",
        "        channel_mult=CFG.channel_mult,\n",
        "        attn_resolutions=CFG.attn_resolutions,\n",
        "        num_res_blocks=CFG.num_res_blocks,\n",
        "        dropout=CFG.dropout\n",
        "    ).to(CFG.device)\n",
        "\n",
        "    opt = optim.Adam(model.parameters(), lr=CFG.lr)\n",
        "    series = make_diffusion_series(CFG.diffusion_steps, CFG.beta_start, CFG.beta_end, CFG.device)\n",
        "\n",
        "    global_step = 0\n",
        "    print('Training on', CFG.device)\n",
        "    print(f'Model parameters: {sum(p.numel() for p in model.parameters()):,}')\n",
        "\n",
        "    for epoch in range(CFG.epochs):\n",
        "        model.train()\n",
        "        pbar = tqdm(loader, desc=f'Epoch {epoch+1}/{CFG.epochs}')\n",
        "        for x, _ in pbar:\n",
        "            x = x.to(CFG.device)\n",
        "            b = x.shape[0]\n",
        "            t = torch.randint(0, CFG.diffusion_steps, (b,), device=CFG.device, dtype=torch.long)\n",
        "            noise = torch.randn_like(x)\n",
        "            x_t = q_sample(x, t, noise, series)\n",
        "\n",
        "            eps_pred = model(x_t, t)\n",
        "            loss = F.mse_loss(eps_pred, noise)\n",
        "\n",
        "            opt.zero_grad()\n",
        "            loss.backward()\n",
        "            opt.step()\n",
        "\n",
        "            global_step += 1\n",
        "            pbar.set_postfix({'loss': float(loss.item()), 'step': global_step})\n",
        "\n",
        "            if global_step % CFG.save_every == 0:\n",
        "                model.eval()\n",
        "                with torch.no_grad():\n",
        "                    samples = p_sample_loop(model, (CFG.sample_batch, CFG.channels, CFG.image_size, CFG.image_size), series, CFG.device, progress=False)\n",
        "                    grid = (samples + 1.0) / 2.0\n",
        "                    save_path = Path(CFG.out_dir) / f'samples_step_{global_step}.png'\n",
        "                    save_image(grid, str(save_path), nrow=4)\n",
        "                    print(f'Saved samples to {save_path}')\n",
        "                model.train()\n",
        "\n",
        "        # epoch checkpoint & sample\n",
        "        model.eval()\n",
        "        with torch.no_grad():\n",
        "            samples = p_sample_loop(model, (CFG.sample_batch, CFG.channels, CFG.image_size, CFG.image_size), series, CFG.device, progress=False)\n",
        "            grid = (samples + 1.0) / 2.0\n",
        "            save_path = Path(CFG.out_dir) / f'samples_epoch_{epoch+1}.png'\n",
        "            save_image(grid, str(save_path), nrow=4)\n",
        "            print(f'Saved epoch samples to {save_path}')\n",
        "\n",
        "        ckpt = Path(CFG.out_dir) / f'ddpm_original_epoch_{epoch+1}.pt'\n",
        "        torch.save({'model': model.state_dict(), 'opt': opt.state_dict(), 'epoch': epoch+1}, ckpt)\n",
        "        print(f'Saved checkpoint {ckpt}')\n",
        "        model.train()\n",
        "\n",
        "    print('Training finished.')\n",
        "    return model, series\n",
        "\n",
        "\n",
        "# if __name__ == '__main__':\n",
        "#     seed = 42\n",
        "#     torch.manual_seed(seed)\n",
        "#     np.random.seed(seed)\n",
        "#     random.seed(seed)\n",
        "\n",
        "#     # Quick debug: reduce these to test quickly\n",
        "#     # CFG.epochs = 2\n",
        "#     # CFG.batch_size = 32\n",
        "\n",
        "#     model, series = train()\n",
        "\n",
        "#     with torch.no_grad():\n",
        "#         samples = p_sample_loop(model, (CFG.sample_batch, CFG.channels, CFG.image_size, CFG.image_size), series, CFG.device, progress=True)\n",
        "#         grid = (samples + 1.0) / 2.0\n",
        "#         save_image(grid, str(Path(CFG.out_dir) / 'final_samples.png'), nrow=4)\n",
        "#         print('Saved final samples.')\n",
        "\n"
      ],
      "metadata": {
        "id": "oUZ6gVQtppCG"
      },
      "id": "oUZ6gVQtppCG",
      "execution_count": null,
      "outputs": []
    },
    {
      "cell_type": "code",
      "source": [
        "# if __name__ == '__main__':\n",
        "    # Seed everything for repeatability while debugging\n",
        "seed = 42\n",
        "torch.manual_seed(seed)\n",
        "np.random.seed(seed)\n",
        "random.seed(seed)\n",
        "\n",
        "    # Quick hint: if you want to quickly sanity-check, reduce epochs and batch_size\n",
        "    # CFG.epochs = 2\n",
        "    # CFG.batch_size = 32\n",
        "\n",
        "model, series = train()\n",
        "\n",
        "    # Optional: generate a small grid and save\n",
        "with torch.no_grad():\n",
        "    samples = p_sample_loop(model, (CFG.sample_batch, CFG.channels, CFG.image_size, CFG.image_size), series, CFG.device, progress=True)\n",
        "    grid = (samples + 1.0) / 2.0\n",
        "    save_image(grid, str(Path(CFG.out_dir) / \"final_samples.png\"), nrow=4)\n",
        "    print(\"Saved final samples.\")"
      ],
      "metadata": {
        "colab": {
          "base_uri": "https://localhost:8080/"
        },
        "id": "dqppFqj_pqXp",
        "outputId": "27a5a9e9-0aa9-415e-8b63-024689778009"
      },
      "id": "dqppFqj_pqXp",
      "execution_count": null,
      "outputs": [
        {
          "output_type": "stream",
          "name": "stdout",
          "text": [
            "Training on cuda\n",
            "Model parameters: 30,471,427\n"
          ]
        },
        {
          "output_type": "stream",
          "name": "stderr",
          "text": [
            "Epoch 1/100:  13%|█▎        | 401/3125 [01:50<4:29:37,  5.94s/it, loss=0.0454, step=401]"
          ]
        },
        {
          "output_type": "stream",
          "name": "stdout",
          "text": [
            "Saved samples to ddpm_original_runs/samples_step_400.png\n"
          ]
        },
        {
          "output_type": "stream",
          "name": "stderr",
          "text": [
            "Epoch 1/100:  26%|██▌       | 800/3125 [03:39<5:26:08,  8.42s/it, loss=0.0343, step=800]"
          ]
        },
        {
          "output_type": "stream",
          "name": "stdout",
          "text": [
            "Saved samples to ddpm_original_runs/samples_step_800.png\n"
          ]
        },
        {
          "output_type": "stream",
          "name": "stderr",
          "text": [
            "Epoch 1/100:  38%|███▊      | 1200/3125 [05:29<4:30:57,  8.45s/it, loss=0.0683, step=1200]"
          ]
        },
        {
          "output_type": "stream",
          "name": "stdout",
          "text": [
            "Saved samples to ddpm_original_runs/samples_step_1200.png\n"
          ]
        },
        {
          "output_type": "stream",
          "name": "stderr",
          "text": [
            "Epoch 1/100:  51%|█████     | 1600/3125 [07:18<3:33:39,  8.41s/it, loss=0.0501, step=1600]"
          ]
        },
        {
          "output_type": "stream",
          "name": "stdout",
          "text": [
            "Saved samples to ddpm_original_runs/samples_step_1600.png\n"
          ]
        },
        {
          "output_type": "stream",
          "name": "stderr",
          "text": [
            "Epoch 1/100:  64%|██████▍   | 2000/3125 [09:07<2:37:41,  8.41s/it, loss=0.0342, step=2000]"
          ]
        },
        {
          "output_type": "stream",
          "name": "stdout",
          "text": [
            "Saved samples to ddpm_original_runs/samples_step_2000.png\n"
          ]
        },
        {
          "output_type": "stream",
          "name": "stderr",
          "text": [
            "Epoch 1/100:  77%|███████▋  | 2400/3125 [10:55<1:41:52,  8.43s/it, loss=0.0509, step=2400]"
          ]
        },
        {
          "output_type": "stream",
          "name": "stdout",
          "text": [
            "Saved samples to ddpm_original_runs/samples_step_2400.png\n"
          ]
        },
        {
          "output_type": "stream",
          "name": "stderr",
          "text": [
            "Epoch 1/100:  90%|████████▉ | 2800/3125 [12:44<45:36,  8.42s/it, loss=0.0588, step=2800]"
          ]
        },
        {
          "output_type": "stream",
          "name": "stdout",
          "text": [
            "Saved samples to ddpm_original_runs/samples_step_2800.png\n"
          ]
        },
        {
          "output_type": "stream",
          "name": "stderr",
          "text": [
            "Epoch 1/100: 100%|██████████| 3125/3125 [13:51<00:00,  3.76it/s, loss=0.0281, step=3125]\n"
          ]
        },
        {
          "output_type": "stream",
          "name": "stdout",
          "text": [
            "Saved epoch samples to ddpm_original_runs/samples_epoch_1.png\n",
            "Saved checkpoint ddpm_original_runs/ddpm_original_epoch_1.pt\n"
          ]
        },
        {
          "output_type": "stream",
          "name": "stderr",
          "text": [
            "Epoch 2/100:   2%|▏         | 75/3125 [00:43<7:17:14,  8.60s/it, loss=0.0724, step=3200]"
          ]
        },
        {
          "output_type": "stream",
          "name": "stdout",
          "text": [
            "Saved samples to ddpm_original_runs/samples_step_3200.png\n"
          ]
        },
        {
          "output_type": "stream",
          "name": "stderr",
          "text": [
            "Epoch 2/100:  15%|█▌        | 475/3125 [02:32<6:12:40,  8.44s/it, loss=0.0566, step=3600]"
          ]
        },
        {
          "output_type": "stream",
          "name": "stdout",
          "text": [
            "Saved samples to ddpm_original_runs/samples_step_3600.png\n"
          ]
        },
        {
          "output_type": "stream",
          "name": "stderr",
          "text": [
            "Epoch 2/100:  28%|██▊       | 875/3125 [04:21<5:17:22,  8.46s/it, loss=0.0315, step=4000]"
          ]
        },
        {
          "output_type": "stream",
          "name": "stdout",
          "text": [
            "Saved samples to ddpm_original_runs/samples_step_4000.png\n"
          ]
        },
        {
          "output_type": "stream",
          "name": "stderr",
          "text": [
            "Epoch 2/100:  41%|████      | 1275/3125 [06:10<4:19:27,  8.41s/it, loss=0.0534, step=4400]"
          ]
        },
        {
          "output_type": "stream",
          "name": "stdout",
          "text": [
            "Saved samples to ddpm_original_runs/samples_step_4400.png\n"
          ]
        },
        {
          "output_type": "stream",
          "name": "stderr",
          "text": [
            "Epoch 2/100:  54%|█████▎    | 1675/3125 [07:59<3:24:06,  8.45s/it, loss=0.0557, step=4800]"
          ]
        },
        {
          "output_type": "stream",
          "name": "stdout",
          "text": [
            "Saved samples to ddpm_original_runs/samples_step_4800.png\n"
          ]
        },
        {
          "output_type": "stream",
          "name": "stderr",
          "text": [
            "Epoch 2/100:  66%|██████▋   | 2075/3125 [09:49<2:28:05,  8.46s/it, loss=0.0462, step=5200]"
          ]
        },
        {
          "output_type": "stream",
          "name": "stdout",
          "text": [
            "Saved samples to ddpm_original_runs/samples_step_5200.png\n"
          ]
        },
        {
          "output_type": "stream",
          "name": "stderr",
          "text": [
            "Epoch 2/100:  79%|███████▉  | 2475/3125 [11:38<1:31:30,  8.45s/it, loss=0.0354, step=5600]"
          ]
        },
        {
          "output_type": "stream",
          "name": "stdout",
          "text": [
            "Saved samples to ddpm_original_runs/samples_step_5600.png\n"
          ]
        },
        {
          "output_type": "stream",
          "name": "stderr",
          "text": [
            "Epoch 2/100:  92%|█████████▏| 2875/3125 [13:27<35:11,  8.44s/it, loss=0.0569, step=6000]"
          ]
        },
        {
          "output_type": "stream",
          "name": "stdout",
          "text": [
            "Saved samples to ddpm_original_runs/samples_step_6000.png\n"
          ]
        },
        {
          "output_type": "stream",
          "name": "stderr",
          "text": [
            "Epoch 2/100: 100%|██████████| 3125/3125 [14:18<00:00,  3.64it/s, loss=0.0851, step=6250]\n"
          ]
        },
        {
          "output_type": "stream",
          "name": "stdout",
          "text": [
            "Saved epoch samples to ddpm_original_runs/samples_epoch_2.png\n",
            "Saved checkpoint ddpm_original_runs/ddpm_original_epoch_2.pt\n"
          ]
        },
        {
          "output_type": "stream",
          "name": "stderr",
          "text": [
            "Epoch 3/100:   5%|▍         | 150/3125 [00:58<7:01:13,  8.50s/it, loss=0.0807, step=6400]"
          ]
        },
        {
          "output_type": "stream",
          "name": "stdout",
          "text": [
            "Saved samples to ddpm_original_runs/samples_step_6400.png\n"
          ]
        },
        {
          "output_type": "stream",
          "name": "stderr",
          "text": [
            "Epoch 3/100:  18%|█▊        | 551/3125 [02:47<4:15:05,  5.95s/it, loss=0.0693, step=6801]"
          ]
        },
        {
          "output_type": "stream",
          "name": "stdout",
          "text": [
            "Saved samples to ddpm_original_runs/samples_step_6800.png\n"
          ]
        },
        {
          "output_type": "stream",
          "name": "stderr",
          "text": [
            "Epoch 3/100:  30%|███       | 951/3125 [04:37<3:37:23,  6.00s/it, loss=0.0698, step=7201]"
          ]
        },
        {
          "output_type": "stream",
          "name": "stdout",
          "text": [
            "Saved samples to ddpm_original_runs/samples_step_7200.png\n"
          ]
        },
        {
          "output_type": "stream",
          "name": "stderr",
          "text": [
            "Epoch 3/100:  43%|████▎     | 1350/3125 [06:26<4:10:18,  8.46s/it, loss=0.0238, step=7601]"
          ]
        },
        {
          "output_type": "stream",
          "name": "stdout",
          "text": [
            "Saved samples to ddpm_original_runs/samples_step_7600.png\n"
          ]
        },
        {
          "output_type": "stream",
          "name": "stderr",
          "text": [
            "Epoch 3/100:  56%|█████▌    | 1750/3125 [08:15<3:13:51,  8.46s/it, loss=0.0488, step=8000]"
          ]
        },
        {
          "output_type": "stream",
          "name": "stdout",
          "text": [
            "Saved samples to ddpm_original_runs/samples_step_8000.png\n"
          ]
        },
        {
          "output_type": "stream",
          "name": "stderr",
          "text": [
            "Epoch 3/100:  69%|██████▉   | 2150/3125 [10:04<2:17:14,  8.45s/it, loss=0.0285, step=8400]"
          ]
        },
        {
          "output_type": "stream",
          "name": "stdout",
          "text": [
            "Saved samples to ddpm_original_runs/samples_step_8400.png\n"
          ]
        },
        {
          "output_type": "stream",
          "name": "stderr",
          "text": [
            "Epoch 3/100:  82%|████████▏ | 2550/3125 [11:53<1:20:58,  8.45s/it, loss=0.0796, step=8800]"
          ]
        },
        {
          "output_type": "stream",
          "name": "stdout",
          "text": [
            "Saved samples to ddpm_original_runs/samples_step_8800.png\n"
          ]
        },
        {
          "output_type": "stream",
          "name": "stderr",
          "text": [
            "Epoch 3/100:  94%|█████████▍| 2950/3125 [13:43<24:37,  8.44s/it, loss=0.0456, step=9200]"
          ]
        },
        {
          "output_type": "stream",
          "name": "stdout",
          "text": [
            "Saved samples to ddpm_original_runs/samples_step_9200.png\n"
          ]
        },
        {
          "output_type": "stream",
          "name": "stderr",
          "text": [
            "Epoch 3/100: 100%|██████████| 3125/3125 [14:18<00:00,  3.64it/s, loss=0.0389, step=9375]\n"
          ]
        },
        {
          "output_type": "stream",
          "name": "stdout",
          "text": [
            "Saved epoch samples to ddpm_original_runs/samples_epoch_3.png\n",
            "Saved checkpoint ddpm_original_runs/ddpm_original_epoch_3.pt\n"
          ]
        },
        {
          "output_type": "stream",
          "name": "stderr",
          "text": [
            "Epoch 4/100:   7%|▋         | 225/3125 [01:13<6:44:05,  8.36s/it, loss=0.045, step=9601] "
          ]
        },
        {
          "output_type": "stream",
          "name": "stdout",
          "text": [
            "Saved samples to ddpm_original_runs/samples_step_9600.png\n"
          ]
        },
        {
          "output_type": "stream",
          "name": "stderr",
          "text": [
            "Epoch 4/100:  20%|██        | 625/3125 [03:02<5:49:50,  8.40s/it, loss=0.027, step=1e+4]"
          ]
        },
        {
          "output_type": "stream",
          "name": "stdout",
          "text": [
            "Saved samples to ddpm_original_runs/samples_step_10000.png\n"
          ]
        },
        {
          "output_type": "stream",
          "name": "stderr",
          "text": [
            "Epoch 4/100:  33%|███▎      | 1025/3125 [04:51<4:55:21,  8.44s/it, loss=0.0394, step=10400]"
          ]
        },
        {
          "output_type": "stream",
          "name": "stdout",
          "text": [
            "Saved samples to ddpm_original_runs/samples_step_10400.png\n"
          ]
        },
        {
          "output_type": "stream",
          "name": "stderr",
          "text": [
            "Epoch 4/100:  46%|████▌     | 1425/3125 [06:40<3:59:36,  8.46s/it, loss=0.0531, step=10800]"
          ]
        },
        {
          "output_type": "stream",
          "name": "stdout",
          "text": [
            "Saved samples to ddpm_original_runs/samples_step_10800.png\n"
          ]
        },
        {
          "output_type": "stream",
          "name": "stderr",
          "text": [
            "Epoch 4/100:  58%|█████▊    | 1825/3125 [08:30<3:03:09,  8.45s/it, loss=0.0513, step=11200]"
          ]
        },
        {
          "output_type": "stream",
          "name": "stdout",
          "text": [
            "Saved samples to ddpm_original_runs/samples_step_11200.png\n"
          ]
        },
        {
          "output_type": "stream",
          "name": "stderr",
          "text": [
            "Epoch 4/100:  71%|███████   | 2225/3125 [10:19<2:06:10,  8.41s/it, loss=0.0394, step=11601]"
          ]
        },
        {
          "output_type": "stream",
          "name": "stdout",
          "text": [
            "Saved samples to ddpm_original_runs/samples_step_11600.png\n"
          ]
        },
        {
          "output_type": "stream",
          "name": "stderr",
          "text": [
            "Epoch 4/100:  84%|████████▍ | 2625/3125 [12:08<1:10:33,  8.47s/it, loss=0.0354, step=12000]"
          ]
        },
        {
          "output_type": "stream",
          "name": "stdout",
          "text": [
            "Saved samples to ddpm_original_runs/samples_step_12000.png\n"
          ]
        },
        {
          "output_type": "stream",
          "name": "stderr",
          "text": [
            "Epoch 4/100:  97%|█████████▋| 3025/3125 [13:57<14:01,  8.41s/it, loss=0.0523, step=12400]"
          ]
        },
        {
          "output_type": "stream",
          "name": "stdout",
          "text": [
            "Saved samples to ddpm_original_runs/samples_step_12400.png\n"
          ]
        },
        {
          "output_type": "stream",
          "name": "stderr",
          "text": [
            "Epoch 4/100: 100%|██████████| 3125/3125 [14:17<00:00,  3.64it/s, loss=0.0377, step=12500]\n"
          ]
        },
        {
          "output_type": "stream",
          "name": "stdout",
          "text": [
            "Saved epoch samples to ddpm_original_runs/samples_epoch_4.png\n",
            "Saved checkpoint ddpm_original_runs/ddpm_original_epoch_4.pt\n"
          ]
        },
        {
          "output_type": "stream",
          "name": "stderr",
          "text": [
            "Epoch 5/100:  10%|▉         | 300/3125 [01:28<6:36:33,  8.42s/it, loss=0.033, step=12800]"
          ]
        },
        {
          "output_type": "stream",
          "name": "stdout",
          "text": [
            "Saved samples to ddpm_original_runs/samples_step_12800.png\n"
          ]
        },
        {
          "output_type": "stream",
          "name": "stderr",
          "text": [
            "Epoch 5/100:  22%|██▏       | 700/3125 [03:18<5:41:17,  8.44s/it, loss=0.0166, step=13200]"
          ]
        },
        {
          "output_type": "stream",
          "name": "stdout",
          "text": [
            "Saved samples to ddpm_original_runs/samples_step_13200.png\n"
          ]
        },
        {
          "output_type": "stream",
          "name": "stderr",
          "text": [
            "Epoch 5/100:  35%|███▌      | 1100/3125 [05:07<4:45:47,  8.47s/it, loss=0.0572, step=13600]"
          ]
        },
        {
          "output_type": "stream",
          "name": "stdout",
          "text": [
            "Saved samples to ddpm_original_runs/samples_step_13600.png\n"
          ]
        },
        {
          "output_type": "stream",
          "name": "stderr",
          "text": [
            "Epoch 5/100:  48%|████▊     | 1500/3125 [06:56<3:47:20,  8.39s/it, loss=0.0561, step=14000]"
          ]
        },
        {
          "output_type": "stream",
          "name": "stdout",
          "text": [
            "Saved samples to ddpm_original_runs/samples_step_14000.png\n"
          ]
        },
        {
          "output_type": "stream",
          "name": "stderr",
          "text": [
            "Epoch 5/100:  61%|██████    | 1900/3125 [08:44<2:52:07,  8.43s/it, loss=0.138, step=14400]"
          ]
        },
        {
          "output_type": "stream",
          "name": "stdout",
          "text": [
            "Saved samples to ddpm_original_runs/samples_step_14400.png\n"
          ]
        },
        {
          "output_type": "stream",
          "name": "stderr",
          "text": [
            "Epoch 5/100:  74%|███████▎  | 2300/3125 [10:33<1:55:56,  8.43s/it, loss=0.0236, step=14800]"
          ]
        },
        {
          "output_type": "stream",
          "name": "stdout",
          "text": [
            "Saved samples to ddpm_original_runs/samples_step_14800.png\n"
          ]
        },
        {
          "output_type": "stream",
          "name": "stderr",
          "text": [
            "Epoch 5/100:  86%|████████▋ | 2700/3125 [12:23<59:55,  8.46s/it, loss=0.0245, step=15200]"
          ]
        },
        {
          "output_type": "stream",
          "name": "stdout",
          "text": [
            "Saved samples to ddpm_original_runs/samples_step_15200.png\n"
          ]
        },
        {
          "output_type": "stream",
          "name": "stderr",
          "text": [
            "Epoch 5/100:  99%|█████████▉| 3100/3125 [14:12<03:31,  8.45s/it, loss=0.0411, step=15600]"
          ]
        },
        {
          "output_type": "stream",
          "name": "stdout",
          "text": [
            "Saved samples to ddpm_original_runs/samples_step_15600.png\n"
          ]
        },
        {
          "output_type": "stream",
          "name": "stderr",
          "text": [
            "Epoch 5/100: 100%|██████████| 3125/3125 [14:17<00:00,  3.64it/s, loss=0.0352, step=15625]\n"
          ]
        },
        {
          "output_type": "stream",
          "name": "stdout",
          "text": [
            "Saved epoch samples to ddpm_original_runs/samples_epoch_5.png\n",
            "Saved checkpoint ddpm_original_runs/ddpm_original_epoch_5.pt\n"
          ]
        },
        {
          "output_type": "stream",
          "name": "stderr",
          "text": [
            "Epoch 6/100:  12%|█▏        | 375/3125 [01:44<6:28:05,  8.47s/it, loss=0.0403, step=16000]"
          ]
        },
        {
          "output_type": "stream",
          "name": "stdout",
          "text": [
            "Saved samples to ddpm_original_runs/samples_step_16000.png\n"
          ]
        },
        {
          "output_type": "stream",
          "name": "stderr",
          "text": [
            "Epoch 6/100:  25%|██▍       | 775/3125 [03:33<5:30:55,  8.45s/it, loss=0.0616, step=16400]"
          ]
        },
        {
          "output_type": "stream",
          "name": "stdout",
          "text": [
            "Saved samples to ddpm_original_runs/samples_step_16400.png\n"
          ]
        },
        {
          "output_type": "stream",
          "name": "stderr",
          "text": [
            "Epoch 6/100:  38%|███▊      | 1175/3125 [05:22<4:33:36,  8.42s/it, loss=0.0561, step=16800]"
          ]
        },
        {
          "output_type": "stream",
          "name": "stdout",
          "text": [
            "Saved samples to ddpm_original_runs/samples_step_16800.png\n"
          ]
        },
        {
          "output_type": "stream",
          "name": "stderr",
          "text": [
            "Epoch 6/100:  50%|█████     | 1575/3125 [07:11<3:37:07,  8.40s/it, loss=0.0544, step=17200]"
          ]
        },
        {
          "output_type": "stream",
          "name": "stdout",
          "text": [
            "Saved samples to ddpm_original_runs/samples_step_17200.png\n"
          ]
        },
        {
          "output_type": "stream",
          "name": "stderr",
          "text": [
            "Epoch 6/100:  63%|██████▎   | 1975/3125 [09:01<2:41:57,  8.45s/it, loss=0.0436, step=17600]"
          ]
        },
        {
          "output_type": "stream",
          "name": "stdout",
          "text": [
            "Saved samples to ddpm_original_runs/samples_step_17600.png\n"
          ]
        },
        {
          "output_type": "stream",
          "name": "stderr",
          "text": [
            "Epoch 6/100:  76%|███████▌  | 2375/3125 [10:50<1:45:48,  8.46s/it, loss=0.0588, step=18000]"
          ]
        },
        {
          "output_type": "stream",
          "name": "stdout",
          "text": [
            "Saved samples to ddpm_original_runs/samples_step_18000.png\n"
          ]
        },
        {
          "output_type": "stream",
          "name": "stderr",
          "text": [
            "Epoch 6/100:  89%|████████▉ | 2775/3125 [12:39<49:06,  8.42s/it, loss=0.0389, step=18400]"
          ]
        },
        {
          "output_type": "stream",
          "name": "stdout",
          "text": [
            "Saved samples to ddpm_original_runs/samples_step_18400.png\n"
          ]
        },
        {
          "output_type": "stream",
          "name": "stderr",
          "text": [
            "Epoch 6/100: 100%|██████████| 3125/3125 [13:51<00:00,  3.76it/s, loss=0.092, step=18750]\n"
          ]
        },
        {
          "output_type": "stream",
          "name": "stdout",
          "text": [
            "Saved epoch samples to ddpm_original_runs/samples_epoch_6.png\n",
            "Saved checkpoint ddpm_original_runs/ddpm_original_epoch_6.pt\n"
          ]
        },
        {
          "output_type": "stream",
          "name": "stderr",
          "text": [
            "Epoch 7/100:   2%|▏         | 50/3125 [00:38<7:20:56,  8.60s/it, loss=0.0322, step=18800]"
          ]
        },
        {
          "output_type": "stream",
          "name": "stdout",
          "text": [
            "Saved samples to ddpm_original_runs/samples_step_18800.png\n"
          ]
        },
        {
          "output_type": "stream",
          "name": "stderr",
          "text": [
            "Epoch 7/100:  14%|█▍        | 450/3125 [02:27<6:16:36,  8.45s/it, loss=0.0416, step=19200]"
          ]
        },
        {
          "output_type": "stream",
          "name": "stdout",
          "text": [
            "Saved samples to ddpm_original_runs/samples_step_19200.png\n"
          ]
        },
        {
          "output_type": "stream",
          "name": "stderr",
          "text": [
            "Epoch 7/100:  27%|██▋       | 850/3125 [04:16<5:20:48,  8.46s/it, loss=0.0467, step=19601]"
          ]
        },
        {
          "output_type": "stream",
          "name": "stdout",
          "text": [
            "Saved samples to ddpm_original_runs/samples_step_19600.png\n"
          ]
        },
        {
          "output_type": "stream",
          "name": "stderr",
          "text": [
            "Epoch 7/100:  40%|████      | 1250/3125 [06:05<4:24:01,  8.45s/it, loss=0.0298, step=2e+4]"
          ]
        },
        {
          "output_type": "stream",
          "name": "stdout",
          "text": [
            "Saved samples to ddpm_original_runs/samples_step_20000.png\n"
          ]
        },
        {
          "output_type": "stream",
          "name": "stderr",
          "text": [
            "Epoch 7/100:  53%|█████▎    | 1650/3125 [07:54<3:26:53,  8.42s/it, loss=0.0375, step=20400]"
          ]
        },
        {
          "output_type": "stream",
          "name": "stdout",
          "text": [
            "Saved samples to ddpm_original_runs/samples_step_20400.png\n"
          ]
        },
        {
          "output_type": "stream",
          "name": "stderr",
          "text": [
            "Epoch 7/100:  66%|██████▌   | 2050/3125 [09:43<2:30:41,  8.41s/it, loss=0.0444, step=20800]"
          ]
        },
        {
          "output_type": "stream",
          "name": "stdout",
          "text": [
            "Saved samples to ddpm_original_runs/samples_step_20800.png\n"
          ]
        },
        {
          "output_type": "stream",
          "name": "stderr",
          "text": [
            "Epoch 7/100:  78%|███████▊  | 2450/3125 [11:33<1:35:07,  8.46s/it, loss=0.0769, step=21200]"
          ]
        },
        {
          "output_type": "stream",
          "name": "stdout",
          "text": [
            "Saved samples to ddpm_original_runs/samples_step_21200.png\n"
          ]
        },
        {
          "output_type": "stream",
          "name": "stderr",
          "text": [
            "Epoch 7/100:  91%|█████████ | 2850/3125 [13:22<38:54,  8.49s/it, loss=0.06, step=21600]"
          ]
        },
        {
          "output_type": "stream",
          "name": "stdout",
          "text": [
            "Saved samples to ddpm_original_runs/samples_step_21600.png\n"
          ]
        },
        {
          "output_type": "stream",
          "name": "stderr",
          "text": [
            "Epoch 7/100: 100%|██████████| 3125/3125 [14:19<00:00,  3.64it/s, loss=0.0785, step=21875]\n"
          ]
        },
        {
          "output_type": "stream",
          "name": "stdout",
          "text": [
            "Saved epoch samples to ddpm_original_runs/samples_epoch_7.png\n",
            "Saved checkpoint ddpm_original_runs/ddpm_original_epoch_7.pt\n"
          ]
        },
        {
          "output_type": "stream",
          "name": "stderr",
          "text": [
            "Epoch 8/100:   4%|▍         | 125/3125 [00:53<7:04:23,  8.49s/it, loss=0.113, step=22000]"
          ]
        },
        {
          "output_type": "stream",
          "name": "stdout",
          "text": [
            "Saved samples to ddpm_original_runs/samples_step_22000.png\n"
          ]
        },
        {
          "output_type": "stream",
          "name": "stderr",
          "text": [
            "Epoch 8/100:  17%|█▋        | 525/3125 [02:42<6:04:23,  8.41s/it, loss=0.0297, step=22400]"
          ]
        },
        {
          "output_type": "stream",
          "name": "stdout",
          "text": [
            "Saved samples to ddpm_original_runs/samples_step_22400.png\n"
          ]
        },
        {
          "output_type": "stream",
          "name": "stderr",
          "text": [
            "Epoch 8/100:  30%|██▉       | 925/3125 [04:31<5:09:13,  8.43s/it, loss=0.0307, step=22800]"
          ]
        },
        {
          "output_type": "stream",
          "name": "stdout",
          "text": [
            "Saved samples to ddpm_original_runs/samples_step_22800.png\n"
          ]
        },
        {
          "output_type": "stream",
          "name": "stderr",
          "text": [
            "Epoch 8/100:  42%|████▏     | 1325/3125 [06:20<4:14:08,  8.47s/it, loss=0.0423, step=23200]"
          ]
        },
        {
          "output_type": "stream",
          "name": "stdout",
          "text": [
            "Saved samples to ddpm_original_runs/samples_step_23200.png\n"
          ]
        },
        {
          "output_type": "stream",
          "name": "stderr",
          "text": [
            "Epoch 8/100:  55%|█████▌    | 1725/3125 [08:10<3:17:41,  8.47s/it, loss=0.0409, step=23600]"
          ]
        },
        {
          "output_type": "stream",
          "name": "stdout",
          "text": [
            "Saved samples to ddpm_original_runs/samples_step_23600.png\n"
          ]
        },
        {
          "output_type": "stream",
          "name": "stderr",
          "text": [
            "Epoch 8/100:  68%|██████▊   | 2125/3125 [09:59<2:20:19,  8.42s/it, loss=0.0594, step=24000]"
          ]
        },
        {
          "output_type": "stream",
          "name": "stdout",
          "text": [
            "Saved samples to ddpm_original_runs/samples_step_24000.png\n"
          ]
        },
        {
          "output_type": "stream",
          "name": "stderr",
          "text": [
            "Epoch 8/100:  81%|████████  | 2525/3125 [11:48<1:24:36,  8.46s/it, loss=0.0421, step=24400]"
          ]
        },
        {
          "output_type": "stream",
          "name": "stdout",
          "text": [
            "Saved samples to ddpm_original_runs/samples_step_24400.png\n"
          ]
        },
        {
          "output_type": "stream",
          "name": "stderr",
          "text": [
            "Epoch 8/100:  94%|█████████▎| 2925/3125 [13:38<28:14,  8.47s/it, loss=0.0703, step=24800]"
          ]
        },
        {
          "output_type": "stream",
          "name": "stdout",
          "text": [
            "Saved samples to ddpm_original_runs/samples_step_24800.png\n"
          ]
        },
        {
          "output_type": "stream",
          "name": "stderr",
          "text": [
            "Epoch 8/100: 100%|██████████| 3125/3125 [14:19<00:00,  3.64it/s, loss=0.0287, step=25000]\n"
          ]
        },
        {
          "output_type": "stream",
          "name": "stdout",
          "text": [
            "Saved epoch samples to ddpm_original_runs/samples_epoch_8.png\n",
            "Saved checkpoint ddpm_original_runs/ddpm_original_epoch_8.pt\n"
          ]
        },
        {
          "output_type": "stream",
          "name": "stderr",
          "text": [
            "Epoch 9/100:   6%|▋         | 200/3125 [01:08<6:49:52,  8.41s/it, loss=0.0462, step=25200]"
          ]
        },
        {
          "output_type": "stream",
          "name": "stdout",
          "text": [
            "Saved samples to ddpm_original_runs/samples_step_25200.png\n"
          ]
        },
        {
          "output_type": "stream",
          "name": "stderr",
          "text": [
            "Epoch 9/100:  19%|█▉        | 600/3125 [02:58<5:54:25,  8.42s/it, loss=0.0466, step=25600]"
          ]
        },
        {
          "output_type": "stream",
          "name": "stdout",
          "text": [
            "Saved samples to ddpm_original_runs/samples_step_25600.png\n"
          ]
        },
        {
          "output_type": "stream",
          "name": "stderr",
          "text": [
            "Epoch 9/100:  32%|███▏      | 1000/3125 [04:47<5:00:02,  8.47s/it, loss=0.0468, step=26000]"
          ]
        },
        {
          "output_type": "stream",
          "name": "stdout",
          "text": [
            "Saved samples to ddpm_original_runs/samples_step_26000.png\n"
          ]
        },
        {
          "output_type": "stream",
          "name": "stderr",
          "text": [
            "Epoch 9/100:  45%|████▍     | 1400/3125 [06:36<4:02:51,  8.45s/it, loss=0.0717, step=26400]"
          ]
        },
        {
          "output_type": "stream",
          "name": "stdout",
          "text": [
            "Saved samples to ddpm_original_runs/samples_step_26400.png\n"
          ]
        },
        {
          "output_type": "stream",
          "name": "stderr",
          "text": [
            "Epoch 9/100:  58%|█████▊    | 1800/3125 [08:26<3:06:24,  8.44s/it, loss=0.0423, step=26801]"
          ]
        },
        {
          "output_type": "stream",
          "name": "stdout",
          "text": [
            "Saved samples to ddpm_original_runs/samples_step_26800.png\n"
          ]
        },
        {
          "output_type": "stream",
          "name": "stderr",
          "text": [
            "Epoch 9/100:  70%|███████   | 2200/3125 [10:15<2:10:39,  8.47s/it, loss=0.0527, step=27200]"
          ]
        },
        {
          "output_type": "stream",
          "name": "stdout",
          "text": [
            "Saved samples to ddpm_original_runs/samples_step_27200.png\n"
          ]
        },
        {
          "output_type": "stream",
          "name": "stderr",
          "text": [
            "Epoch 9/100:  83%|████████▎ | 2600/3125 [12:05<1:14:15,  8.49s/it, loss=0.0425, step=27600]"
          ]
        },
        {
          "output_type": "stream",
          "name": "stdout",
          "text": [
            "Saved samples to ddpm_original_runs/samples_step_27600.png\n"
          ]
        },
        {
          "output_type": "stream",
          "name": "stderr",
          "text": [
            "Epoch 9/100:  96%|█████████▌| 3000/3125 [13:54<17:35,  8.44s/it, loss=0.0381, step=28000]"
          ]
        },
        {
          "output_type": "stream",
          "name": "stdout",
          "text": [
            "Saved samples to ddpm_original_runs/samples_step_28000.png\n"
          ]
        },
        {
          "output_type": "stream",
          "name": "stderr",
          "text": [
            "Epoch 9/100: 100%|██████████| 3125/3125 [14:20<00:00,  3.63it/s, loss=0.0429, step=28125]\n"
          ]
        },
        {
          "output_type": "stream",
          "name": "stdout",
          "text": [
            "Saved epoch samples to ddpm_original_runs/samples_epoch_9.png\n",
            "Saved checkpoint ddpm_original_runs/ddpm_original_epoch_9.pt\n"
          ]
        },
        {
          "output_type": "stream",
          "name": "stderr",
          "text": [
            "Epoch 10/100:   9%|▉         | 275/3125 [01:23<6:35:48,  8.33s/it, loss=0.0737, step=28400]"
          ]
        },
        {
          "output_type": "stream",
          "name": "stdout",
          "text": [
            "Saved samples to ddpm_original_runs/samples_step_28400.png\n"
          ]
        },
        {
          "output_type": "stream",
          "name": "stderr",
          "text": [
            "Epoch 10/100:  22%|██▏       | 675/3125 [03:13<5:43:41,  8.42s/it, loss=0.0495, step=28800]"
          ]
        },
        {
          "output_type": "stream",
          "name": "stdout",
          "text": [
            "Saved samples to ddpm_original_runs/samples_step_28800.png\n"
          ]
        },
        {
          "output_type": "stream",
          "name": "stderr",
          "text": [
            "Epoch 10/100:  34%|███▍      | 1075/3125 [05:02<4:50:13,  8.49s/it, loss=0.044, step=29200]"
          ]
        },
        {
          "output_type": "stream",
          "name": "stdout",
          "text": [
            "Saved samples to ddpm_original_runs/samples_step_29200.png\n"
          ]
        },
        {
          "output_type": "stream",
          "name": "stderr",
          "text": [
            "Epoch 10/100:  47%|████▋     | 1475/3125 [06:52<3:51:24,  8.41s/it, loss=0.0657, step=29600]"
          ]
        },
        {
          "output_type": "stream",
          "name": "stdout",
          "text": [
            "Saved samples to ddpm_original_runs/samples_step_29600.png\n"
          ]
        },
        {
          "output_type": "stream",
          "name": "stderr",
          "text": [
            "Epoch 10/100:  60%|██████    | 1875/3125 [08:41<2:56:57,  8.49s/it, loss=0.0375, step=3e+4]"
          ]
        },
        {
          "output_type": "stream",
          "name": "stdout",
          "text": [
            "Saved samples to ddpm_original_runs/samples_step_30000.png\n"
          ]
        },
        {
          "output_type": "stream",
          "name": "stderr",
          "text": [
            "Epoch 10/100:  73%|███████▎  | 2275/3125 [10:31<1:59:27,  8.43s/it, loss=0.0525, step=30400]"
          ]
        },
        {
          "output_type": "stream",
          "name": "stdout",
          "text": [
            "Saved samples to ddpm_original_runs/samples_step_30400.png\n"
          ]
        },
        {
          "output_type": "stream",
          "name": "stderr",
          "text": [
            "Epoch 10/100:  86%|████████▌ | 2675/3125 [12:20<1:03:42,  8.49s/it, loss=0.0616, step=30800]"
          ]
        },
        {
          "output_type": "stream",
          "name": "stdout",
          "text": [
            "Saved samples to ddpm_original_runs/samples_step_30800.png\n"
          ]
        },
        {
          "output_type": "stream",
          "name": "stderr",
          "text": [
            "Epoch 10/100:  98%|█████████▊| 3075/3125 [14:09<07:03,  8.46s/it, loss=0.0639, step=31200]"
          ]
        },
        {
          "output_type": "stream",
          "name": "stdout",
          "text": [
            "Saved samples to ddpm_original_runs/samples_step_31200.png\n"
          ]
        },
        {
          "output_type": "stream",
          "name": "stderr",
          "text": [
            "Epoch 10/100: 100%|██████████| 3125/3125 [14:20<00:00,  3.63it/s, loss=0.0375, step=31250]\n"
          ]
        },
        {
          "output_type": "stream",
          "name": "stdout",
          "text": [
            "Saved epoch samples to ddpm_original_runs/samples_epoch_10.png\n",
            "Saved checkpoint ddpm_original_runs/ddpm_original_epoch_10.pt\n"
          ]
        },
        {
          "output_type": "stream",
          "name": "stderr",
          "text": [
            "Epoch 11/100:  11%|█         | 350/3125 [01:39<6:28:34,  8.40s/it, loss=0.029, step=31600]"
          ]
        },
        {
          "output_type": "stream",
          "name": "stdout",
          "text": [
            "Saved samples to ddpm_original_runs/samples_step_31600.png\n"
          ]
        },
        {
          "output_type": "stream",
          "name": "stderr",
          "text": [
            "Epoch 11/100:  24%|██▍       | 750/3125 [03:29<5:34:57,  8.46s/it, loss=0.0568, step=32000]"
          ]
        },
        {
          "output_type": "stream",
          "name": "stdout",
          "text": [
            "Saved samples to ddpm_original_runs/samples_step_32000.png\n"
          ]
        },
        {
          "output_type": "stream",
          "name": "stderr",
          "text": [
            "Epoch 11/100:  37%|███▋      | 1150/3125 [05:18<4:39:27,  8.49s/it, loss=0.0465, step=32400]"
          ]
        },
        {
          "output_type": "stream",
          "name": "stdout",
          "text": [
            "Saved samples to ddpm_original_runs/samples_step_32400.png\n"
          ]
        },
        {
          "output_type": "stream",
          "name": "stderr",
          "text": [
            "Epoch 11/100:  50%|████▉     | 1550/3125 [07:08<3:42:40,  8.48s/it, loss=0.0315, step=32800]"
          ]
        },
        {
          "output_type": "stream",
          "name": "stdout",
          "text": [
            "Saved samples to ddpm_original_runs/samples_step_32800.png\n"
          ]
        },
        {
          "output_type": "stream",
          "name": "stderr",
          "text": [
            "Epoch 11/100:  62%|██████▏   | 1950/3125 [08:58<2:46:04,  8.48s/it, loss=0.0274, step=33200]"
          ]
        },
        {
          "output_type": "stream",
          "name": "stdout",
          "text": [
            "Saved samples to ddpm_original_runs/samples_step_33200.png\n"
          ]
        },
        {
          "output_type": "stream",
          "name": "stderr",
          "text": [
            "Epoch 11/100:  75%|███████▌  | 2350/3125 [10:47<1:48:56,  8.43s/it, loss=0.0472, step=33600]"
          ]
        },
        {
          "output_type": "stream",
          "name": "stdout",
          "text": [
            "Saved samples to ddpm_original_runs/samples_step_33600.png\n"
          ]
        },
        {
          "output_type": "stream",
          "name": "stderr",
          "text": [
            "Epoch 11/100:  88%|████████▊ | 2750/3125 [12:36<52:49,  8.45s/it, loss=0.0488, step=34000]"
          ]
        },
        {
          "output_type": "stream",
          "name": "stdout",
          "text": [
            "Saved samples to ddpm_original_runs/samples_step_34000.png\n"
          ]
        },
        {
          "output_type": "stream",
          "name": "stderr",
          "text": [
            "Epoch 11/100: 100%|██████████| 3125/3125 [13:53<00:00,  3.75it/s, loss=0.0544, step=34375]\n"
          ]
        },
        {
          "output_type": "stream",
          "name": "stdout",
          "text": [
            "Saved epoch samples to ddpm_original_runs/samples_epoch_11.png\n",
            "Saved checkpoint ddpm_original_runs/ddpm_original_epoch_11.pt\n"
          ]
        },
        {
          "output_type": "stream",
          "name": "stderr",
          "text": [
            "Epoch 12/100:   1%|          | 25/3125 [00:33<7:22:31,  8.56s/it, loss=0.0351, step=34400]"
          ]
        },
        {
          "output_type": "stream",
          "name": "stdout",
          "text": [
            "Saved samples to ddpm_original_runs/samples_step_34400.png\n"
          ]
        },
        {
          "output_type": "stream",
          "name": "stderr",
          "text": [
            "Epoch 12/100:  14%|█▎        | 425/3125 [02:22<6:22:34,  8.50s/it, loss=0.069, step=34800]"
          ]
        },
        {
          "output_type": "stream",
          "name": "stdout",
          "text": [
            "Saved samples to ddpm_original_runs/samples_step_34800.png\n"
          ]
        },
        {
          "output_type": "stream",
          "name": "stderr",
          "text": [
            "Epoch 12/100:  26%|██▋       | 825/3125 [04:11<5:22:55,  8.42s/it, loss=0.0526, step=35201]"
          ]
        },
        {
          "output_type": "stream",
          "name": "stdout",
          "text": [
            "Saved samples to ddpm_original_runs/samples_step_35200.png\n"
          ]
        },
        {
          "output_type": "stream",
          "name": "stderr",
          "text": [
            "Epoch 12/100:  39%|███▉      | 1225/3125 [06:01<4:27:57,  8.46s/it, loss=0.102, step=35600]"
          ]
        },
        {
          "output_type": "stream",
          "name": "stdout",
          "text": [
            "Saved samples to ddpm_original_runs/samples_step_35600.png\n"
          ]
        },
        {
          "output_type": "stream",
          "name": "stderr",
          "text": [
            "Epoch 12/100:  52%|█████▏    | 1625/3125 [07:50<3:31:43,  8.47s/it, loss=0.0317, step=36000]"
          ]
        },
        {
          "output_type": "stream",
          "name": "stdout",
          "text": [
            "Saved samples to ddpm_original_runs/samples_step_36000.png\n"
          ]
        },
        {
          "output_type": "stream",
          "name": "stderr",
          "text": [
            "Epoch 12/100:  65%|██████▍   | 2025/3125 [09:40<2:34:43,  8.44s/it, loss=0.0609, step=36400]"
          ]
        },
        {
          "output_type": "stream",
          "name": "stdout",
          "text": [
            "Saved samples to ddpm_original_runs/samples_step_36400.png\n"
          ]
        },
        {
          "output_type": "stream",
          "name": "stderr",
          "text": [
            "Epoch 12/100:  78%|███████▊  | 2425/3125 [11:29<1:38:23,  8.43s/it, loss=0.0652, step=36800]"
          ]
        },
        {
          "output_type": "stream",
          "name": "stdout",
          "text": [
            "Saved samples to ddpm_original_runs/samples_step_36800.png\n"
          ]
        },
        {
          "output_type": "stream",
          "name": "stderr",
          "text": [
            "Epoch 12/100:  90%|█████████ | 2825/3125 [13:19<42:22,  8.47s/it, loss=0.0582, step=37200]"
          ]
        },
        {
          "output_type": "stream",
          "name": "stdout",
          "text": [
            "Saved samples to ddpm_original_runs/samples_step_37200.png\n"
          ]
        },
        {
          "output_type": "stream",
          "name": "stderr",
          "text": [
            "Epoch 12/100: 100%|██████████| 3125/3125 [14:20<00:00,  3.63it/s, loss=0.025, step=37500]\n"
          ]
        },
        {
          "output_type": "stream",
          "name": "stdout",
          "text": [
            "Saved epoch samples to ddpm_original_runs/samples_epoch_12.png\n",
            "Saved checkpoint ddpm_original_runs/ddpm_original_epoch_12.pt\n"
          ]
        },
        {
          "output_type": "stream",
          "name": "stderr",
          "text": [
            "Epoch 13/100:   3%|▎         | 100/3125 [00:47<7:04:35,  8.42s/it, loss=0.0654, step=37600]"
          ]
        },
        {
          "output_type": "stream",
          "name": "stdout",
          "text": [
            "Saved samples to ddpm_original_runs/samples_step_37600.png\n"
          ]
        },
        {
          "output_type": "stream",
          "name": "stderr",
          "text": [
            "Epoch 13/100:  16%|█▌        | 500/3125 [02:37<6:10:09,  8.46s/it, loss=0.0555, step=38000]"
          ]
        },
        {
          "output_type": "stream",
          "name": "stdout",
          "text": [
            "Saved samples to ddpm_original_runs/samples_step_38000.png\n"
          ]
        },
        {
          "output_type": "stream",
          "name": "stderr",
          "text": [
            "Epoch 13/100:  23%|██▎       | 718/3125 [03:22<08:06,  4.94it/s, loss=0.071, step=38218]"
          ]
        }
      ]
    }
  ],
  "metadata": {
    "kernelspec": {
      "display_name": "Python (myenv)",
      "language": "python",
      "name": "myenv"
    },
    "language_info": {
      "codemirror_mode": {
        "name": "ipython",
        "version": 3
      },
      "file_extension": ".py",
      "mimetype": "text/x-python",
      "name": "python",
      "nbconvert_exporter": "python",
      "pygments_lexer": "ipython3",
      "version": "3.13.2"
    },
    "colab": {
      "provenance": [],
      "gpuType": "T4"
    },
    "accelerator": "GPU"
  },
  "nbformat": 4,
  "nbformat_minor": 5
}